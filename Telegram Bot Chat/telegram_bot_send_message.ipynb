{
 "cells": [
  {
   "cell_type": "markdown",
   "id": "bc79eb5b",
   "metadata": {},
   "source": [
    "# Use Telegram Bot to send a simple message"
   ]
  },
  {
   "cell_type": "code",
   "execution_count": null,
   "id": "fca7c9ab",
   "metadata": {},
   "outputs": [],
   "source": [
    "import requests\n",
    "import json\n",
    "import os"
   ]
  },
  {
   "cell_type": "code",
   "execution_count": null,
   "id": "e092920e",
   "metadata": {},
   "outputs": [],
   "source": [
    "bot_token = '81xxxxxx09:AAG-iOxxxxxxxxxxxWO-SBxxxxxxxxxxWg'\n",
    "chat_id = '29xxxxx08'\n",
    "url = f\"https://api.telegram.org/bot{bot_token}/sendMessage\"\n",
    "message = 'Hi anh~'\n",
    "payload = {\n",
    "            \"chat_id\": chat_id,\n",
    "            \"text\": message,\n",
    "            \"parse_mode\": \"HTML\"  # Use HTML formatting\n",
    "        }"
   ]
  },
  {
   "cell_type": "code",
   "execution_count": 15,
   "id": "636e0679",
   "metadata": {},
   "outputs": [],
   "source": [
    "response = requests.post(url, json=payload)"
   ]
  },
  {
   "cell_type": "code",
   "execution_count": 16,
   "id": "664c649d",
   "metadata": {},
   "outputs": [
    {
     "name": "stdout",
     "output_type": "stream",
     "text": [
      "{'ok': True, 'result': {'message_id': 47, 'from': {'id': 7566330401, 'is_bot': True, 'first_name': 'Beachu', 'username': 'test_wmill_bot'}, 'chat': {'id': 1938102809, 'first_name': 'Hiu', 'last_name': 'Lu Chun', 'username': 'hiuluchun', 'type': 'private'}, 'date': 1753845578, 'text': 'Hi anh~'}}\n"
     ]
    }
   ],
   "source": [
    "print(response.json())"
   ]
  },
  {
   "cell_type": "markdown",
   "id": "d4d5b116",
   "metadata": {},
   "source": [
    "# Create a function to use Telegram Bot to send messages"
   ]
  },
  {
   "cell_type": "code",
   "execution_count": 17,
   "id": "6618a1f9",
   "metadata": {},
   "outputs": [],
   "source": [
    "def send_telegram_message(bot_token: str, chat_id: str, message: str):\n",
    "    \"\"\"\n",
    "    Function to send a message via Telegram Bot\n",
    "    \n",
    "    Args:\n",
    "        bot_token: Telegram Bot token (obtained from @BotFather)\n",
    "        chat_id: ID of the chat/group to send the message to\n",
    "        message: Content of the message\n",
    "    \"\"\"\n",
    "    try:\n",
    "        url = f\"https://api.telegram.org/bot{bot_token}/sendMessage\"\n",
    "        payload = {\n",
    "            \"chat_id\": chat_id,\n",
    "            \"text\": message,\n",
    "            \"parse_mode\": \"HTML\"  # HTML formatting\n",
    "        }\n",
    "        \n",
    "        response = requests.post(url, json=payload) # Use requests package to send message to Telegram\n",
    "        \n",
    "        if response.status_code == 200:\n",
    "            print(\"✅ Telegram message sent successfully\")\n",
    "        else:\n",
    "            print(f\"❌ Failed to send Telegram message: {response.text}\")\n",
    "            \n",
    "    except Exception as e:\n",
    "        print(f\"❌ Error sending Telegram message: {str(e)}\")"
   ]
  },
  {
   "cell_type": "code",
   "execution_count": null,
   "id": "2eeb66a3",
   "metadata": {},
   "outputs": [
    {
     "name": "stdout",
     "output_type": "stream",
     "text": [
      "✅ Telegram message sent successfully\n"
     ]
    }
   ],
   "source": [
    "telegram_bot_token = '81xxxxxx09:AAG-iOxxxxxxxxxxxWO-SBxxxxxxxxxxWg'\n",
    "telegram_chat_id = '29xxxxx08'\n",
    "message = f\"\"\"\n",
    "🎉 <b>SYNC DATA THÀNH CÔNG</b>\n",
    "\n",
    "📊 <b>Thông tin chi tiết:</b>\n",
    "... \n",
    "\n",
    "✅ Dữ liệu đã được cập nhật thành công vào Google Sheet!\n",
    "\"\"\"\n",
    "\n",
    "if telegram_bot_token and telegram_chat_id:\n",
    "    send_telegram_message(telegram_bot_token, telegram_chat_id, message.strip())"
   ]
  }
 ],
 "metadata": {
  "kernelspec": {
   "display_name": "Python 3",
   "language": "python",
   "name": "python3"
  },
  "language_info": {
   "codemirror_mode": {
    "name": "ipython",
    "version": 3
   },
   "file_extension": ".py",
   "mimetype": "text/x-python",
   "name": "python",
   "nbconvert_exporter": "python",
   "pygments_lexer": "ipython3",
   "version": "3.13.5"
  }
 },
 "nbformat": 4,
 "nbformat_minor": 5
}
